{
 "cells": [
  {
   "cell_type": "markdown",
   "metadata": {},
   "source": [
    "# Reuters Dataset\n"
   ]
  },
  {
   "cell_type": "code",
   "execution_count": 1,
   "metadata": {},
   "outputs": [],
   "source": [
    "import numpy as np\n",
    "import matplotlib.pyplot as plt\n",
    "\n",
    "# modify the default parameters of np.load to avoid error message \"Object arrays cannot be loaded when allow_pickle=False\"\n",
    "if np.load.__name__ != '<lambda>': \n",
    "    np_load_old = np.load\n",
    "    np.load = lambda *a,**k: np_load_old(*a, allow_pickle=True, **k)\n",
    "\n",
    "import tensorflow as tf\n",
    "\n",
    "reuters = tf.keras.datasets.reuters\n",
    "models = tf.keras.models\n",
    "layers = tf.keras.layers"
   ]
  },
  {
   "cell_type": "code",
   "execution_count": 2,
   "metadata": {},
   "outputs": [],
   "source": [
    "NUM_WORDS = 10000\n",
    "NUM_CLASSES = 46\n",
    "(train_data, train_labels), (test_data, test_labels) = reuters.load_data( num_words = NUM_WORDS)"
   ]
  },
  {
   "cell_type": "code",
   "execution_count": 3,
   "metadata": {},
   "outputs": [
    {
     "name": "stdout",
     "output_type": "stream",
     "text": [
      "? ? ? said as a result of its december acquisition of space co it expects earnings per share in 1987 of 1 15 to 1 30 dlrs per share up from 70 cts in 1986 the company said pretax net should rise to nine to 10 mln dlrs from six mln dlrs in 1986 and rental operation revenues to 19 to 22 mln dlrs from 12 5 mln dlrs it said cash flow per share this year should be 2 50 to three dlrs reuter 3\n"
     ]
    }
   ],
   "source": [
    "word_index = reuters.get_word_index()\n",
    "reverse_word_index = dict([(value,key) for (key,value) in word_index.items()])\n",
    "\n",
    "# helper function to decode index encoded newswires \n",
    "# index values 0, 1, 2 are reserved for \"padding\", \"start of sequence\", and \"unknown\"\n",
    "def decode_newswire( newswire ) : \n",
    "    return ' '.join([reverse_word_index.get(i-3, '?') for i in newswire])\n",
    "\n",
    "print(decode_newswire(train_data[0]))"
   ]
  },
  {
   "cell_type": "code",
   "execution_count": 4,
   "metadata": {},
   "outputs": [],
   "source": [
    "# binary encoding of newswires - 1 if word is present\n",
    "def vectorize_sequences( sequences, dimension = NUM_WORDS ):\n",
    "    results = np.zeros((len(sequences), dimension))\n",
    "    for i, sequence in enumerate(sequences):\n",
    "        results[i,sequence] = 1\n",
    "    return results\n",
    "\n",
    "x_train = vectorize_sequences(train_data)\n",
    "x_test = vectorize_sequences(test_data)"
   ]
  },
  {
   "cell_type": "code",
   "execution_count": 5,
   "metadata": {},
   "outputs": [],
   "source": [
    "# one-hot encoding of labels\n",
    "to_categorical = tf.keras.utils.to_categorical\n",
    "one_hot_train_labels = to_categorical(train_labels, num_classes = NUM_CLASSES)\n",
    "one_hot_test_labels = to_categorical(test_labels, num_classes = NUM_CLASSES)"
   ]
  },
  {
   "cell_type": "code",
   "execution_count": 6,
   "metadata": {},
   "outputs": [
    {
     "name": "stderr",
     "output_type": "stream",
     "text": [
      "WARNING: Logging before flag parsing goes to stderr.\n",
      "W0830 16:29:50.852391 140098693633856 deprecation.py:506] From /home/shirish/anaconda3/envs/tf/lib/python3.7/site-packages/tensorflow/python/ops/init_ops.py:1251: calling VarianceScaling.__init__ (from tensorflow.python.ops.init_ops) with dtype is deprecated and will be removed in a future version.\n",
      "Instructions for updating:\n",
      "Call initializer instance with the dtype argument instead of passing it to the constructor\n"
     ]
    }
   ],
   "source": [
    "# model definition\n",
    "def build_model():\n",
    "    model = models.Sequential()\n",
    "    model.add(layers.Dense(64, activation='relu', input_shape = (NUM_WORDS,)))\n",
    "    model.add(layers.Dense(64, activation='relu'))\n",
    "    model.add(layers.Dense(46, activation='softmax'))\n",
    "    return model\n",
    "    \n",
    "model = build_model()"
   ]
  },
  {
   "cell_type": "code",
   "execution_count": 7,
   "metadata": {},
   "outputs": [],
   "source": [
    "model.compile(optimizer='rmsprop', loss='categorical_crossentropy', metrics=['accuracy'])"
   ]
  },
  {
   "cell_type": "code",
   "execution_count": 8,
   "metadata": {},
   "outputs": [],
   "source": [
    "# set aside validation set\n",
    "VALIDATION_SIZE = 1000\n",
    "x_val = x_train[:VALIDATION_SIZE]\n",
    "partial_x_train = x_train[VALIDATION_SIZE:]\n",
    "y_val = one_hot_train_labels[:VALIDATION_SIZE]\n",
    "partial_y_train = one_hot_train_labels[VALIDATION_SIZE:]"
   ]
  },
  {
   "cell_type": "code",
   "execution_count": 9,
   "metadata": {},
   "outputs": [
    {
     "name": "stdout",
     "output_type": "stream",
     "text": [
      "Train on 7982 samples, validate on 1000 samples\n",
      "Epoch 1/20\n",
      "7982/7982 [==============================] - 1s 102us/sample - loss: 2.6407 - acc: 0.5204 - val_loss: 1.7912 - val_acc: 0.6590\n",
      "Epoch 2/20\n",
      "7982/7982 [==============================] - 1s 70us/sample - loss: 1.4412 - acc: 0.7095 - val_loss: 1.3315 - val_acc: 0.7210\n",
      "Epoch 3/20\n",
      "7982/7982 [==============================] - 1s 79us/sample - loss: 1.0506 - acc: 0.7834 - val_loss: 1.1389 - val_acc: 0.7620\n",
      "Epoch 4/20\n",
      "7982/7982 [==============================] - 1s 91us/sample - loss: 0.8147 - acc: 0.8380 - val_loss: 1.0421 - val_acc: 0.7900\n",
      "Epoch 5/20\n",
      "7982/7982 [==============================] - 1s 72us/sample - loss: 0.6447 - acc: 0.8713 - val_loss: 0.9471 - val_acc: 0.8070\n",
      "Epoch 6/20\n",
      "7982/7982 [==============================] - 1s 71us/sample - loss: 0.5129 - acc: 0.8980 - val_loss: 0.9051 - val_acc: 0.8200\n",
      "Epoch 7/20\n",
      "7982/7982 [==============================] - 1s 71us/sample - loss: 0.4132 - acc: 0.9149 - val_loss: 0.8902 - val_acc: 0.8200\n",
      "Epoch 8/20\n",
      "7982/7982 [==============================] - 1s 72us/sample - loss: 0.3384 - acc: 0.9311 - val_loss: 0.9018 - val_acc: 0.8180\n",
      "Epoch 9/20\n",
      "7982/7982 [==============================] - 1s 72us/sample - loss: 0.2787 - acc: 0.9389 - val_loss: 0.9124 - val_acc: 0.8090\n",
      "Epoch 10/20\n",
      "7982/7982 [==============================] - 1s 70us/sample - loss: 0.2369 - acc: 0.9451 - val_loss: 0.8968 - val_acc: 0.8200\n",
      "Epoch 11/20\n",
      "7982/7982 [==============================] - 1s 72us/sample - loss: 0.2080 - acc: 0.9489 - val_loss: 0.8812 - val_acc: 0.8230\n",
      "Epoch 12/20\n",
      "7982/7982 [==============================] - 1s 71us/sample - loss: 0.1791 - acc: 0.9533 - val_loss: 0.9194 - val_acc: 0.8110\n",
      "Epoch 13/20\n",
      "7982/7982 [==============================] - 1s 72us/sample - loss: 0.1611 - acc: 0.9533 - val_loss: 0.9279 - val_acc: 0.8180\n",
      "Epoch 14/20\n",
      "7982/7982 [==============================] - 1s 73us/sample - loss: 0.1472 - acc: 0.9554 - val_loss: 0.9699 - val_acc: 0.8120\n",
      "Epoch 15/20\n",
      "7982/7982 [==============================] - 1s 77us/sample - loss: 0.1407 - acc: 0.9555 - val_loss: 0.9586 - val_acc: 0.8150\n",
      "Epoch 16/20\n",
      "7982/7982 [==============================] - 1s 75us/sample - loss: 0.1306 - acc: 0.9563 - val_loss: 1.0008 - val_acc: 0.8120\n",
      "Epoch 17/20\n",
      "7982/7982 [==============================] - 1s 73us/sample - loss: 0.1248 - acc: 0.9559 - val_loss: 1.0425 - val_acc: 0.8130\n",
      "Epoch 18/20\n",
      "7982/7982 [==============================] - 1s 72us/sample - loss: 0.1239 - acc: 0.9559 - val_loss: 1.0588 - val_acc: 0.8120\n",
      "Epoch 19/20\n",
      "7982/7982 [==============================] - 1s 74us/sample - loss: 0.1144 - acc: 0.9569 - val_loss: 1.0302 - val_acc: 0.8100\n",
      "Epoch 20/20\n",
      "7982/7982 [==============================] - 1s 73us/sample - loss: 0.1141 - acc: 0.9573 - val_loss: 1.0547 - val_acc: 0.8110\n"
     ]
    }
   ],
   "source": [
    "# train model\n",
    "history = model.fit(partial_x_train, partial_y_train, epochs = 20, \n",
    "                    batch_size = 512, validation_data = (x_val, y_val))"
   ]
  },
  {
   "cell_type": "code",
   "execution_count": 10,
   "metadata": {},
   "outputs": [],
   "source": [
    "# extract logs of loss and accuracy\n",
    "loss_values = history.history['loss']\n",
    "val_loss_values = history.history['val_loss']\n",
    "acc = history.history['acc']\n",
    "val_acc = history.history['val_acc']\n",
    "epochs = range(1,len(loss_values)+1)"
   ]
  },
  {
   "cell_type": "code",
   "execution_count": 11,
   "metadata": {},
   "outputs": [
    {
     "data": {
      "image/png": "[encoded data removed]",
      "text/plain": [
       "<Figure size 432x288 with 1 Axes>"
      ]
     },
     "metadata": {
      "needs_background": "light"
     },
     "output_type": "display_data"
    }
   ],
   "source": [
    "# plot loss for training and validation set\n",
    "plt.clf()\n",
    "plt.plot(epochs, loss_values, 'bo', label='Training loss')\n",
    "plt.plot(epochs, val_loss_values, 'b', label='Validation loss')\n",
    "plt.title('Training and Validation Loss')\n",
    "plt.xlabel('Epochs')\n",
    "plt.ylabel('Loss')\n",
    "plt.legend()\n",
    "plt.show()"
   ]
  },
  {
   "cell_type": "code",
   "execution_count": 12,
   "metadata": {},
   "outputs": [
    {
     "data": {
      "image/png": "[encoded data removed]",
      "text/plain": [
       "<Figure size 432x288 with 1 Axes>"
      ]
     },
     "metadata": {
      "needs_background": "light"
     },
     "output_type": "display_data"
    }
   ],
   "source": [
    "# plot accuracy for training and validation set\n",
    "plt.clf()\n",
    "plt.plot(epochs, acc, 'bo', label='Training accuracy')\n",
    "plt.plot(epochs, val_acc, 'b', label='Validation accuracy')\n",
    "plt.title('Training and Validation Accuracy')\n",
    "plt.xlabel('Epochs')\n",
    "plt.ylabel('Accuracy')\n",
    "plt.legend()\n",
    "plt.show()"
   ]
  },
  {
   "cell_type": "code",
   "execution_count": 14,
   "metadata": {},
   "outputs": [
    {
     "name": "stdout",
     "output_type": "stream",
     "text": [
      "2246/2246 [==============================] - 0s 65us/sample - loss: 1.2237 - acc: 0.7867\n",
      "[1.2236635147835246, 0.78673196]\n"
     ]
    }
   ],
   "source": [
    "# run on test set\n",
    "results = model.evaluate(x_test, one_hot_test_labels)\n",
    "print(results)"
   ]
  },
  {
   "cell_type": "markdown",
   "metadata": {},
   "source": [
    "## Error Analysis\n",
    "We check in a couple of places where the prediction does not match the test label.  These two examples cast doubt on the labels used by the test set.  "
   ]
  },
  {
   "cell_type": "code",
   "execution_count": 22,
   "metadata": {},
   "outputs": [],
   "source": [
    "predictions = model.predict(x_test)\n",
    "decision = np.argmax(predictions, axis=1)"
   ]
  },
  {
   "cell_type": "code",
   "execution_count": 33,
   "metadata": {},
   "outputs": [
    {
     "name": "stdout",
     "output_type": "stream",
     "text": [
      "[ 3 10  1  4 13  3  3  3  3  3  1  4  1  3  1 11  4  3 19  3  8  3  3  3\n",
      "  9  3  4  6 10  3  3 10  4  3]\n",
      "[ 3 10  1  4  4  3  3  3  3  3  5  4  1  3  1 11 23  3 19  3  8  3  3  3\n",
      "  9  3  4  6 10  3  3 10 20  1]\n"
     ]
    }
   ],
   "source": [
    "# note that the 4th test example (0-based index) was classified as 13 whereas the test_label is 4\n",
    "print(decision[:34])\n",
    "print(test_labels[:34])"
   ]
  },
  {
   "cell_type": "code",
   "execution_count": 32,
   "metadata": {},
   "outputs": [
    {
     "data": {
      "text/plain": [
       "'? strong south ? winds were keeping many vessels trapped in the ice off the finnish and swedish coasts in one of the worst icy periods in the baltic for many years the finnish board of navigation said in finland and sweden up to 50 vessels were reported to be stuck in the ice and even the largest of the ? ? were having difficulties in breaking through to the ? ships ? officials said however icy conditions in the southern baltic at the soviet oil ports of ? and ? had eased they said weather officials in neighbouring sweden said the icy conditions in the baltic were the worst for 30 years with ships fighting a losing battle to keep moving in the coastal stretches of the gulf of ? which ? finland and sweden the ice is up to one ? thick with ? and ? packing it into almost ? walls three metres high swedish ? officials said weather forecasts say winds may ease during the weekend but a further drop in temperature could bring shipping to a standstill the officials said reuter 3'"
      ]
     },
     "execution_count": 32,
     "metadata": {},
     "output_type": "execute_result"
    }
   ],
   "source": [
    "# supposed topic names in reuters data\n",
    "topic_indexes = {'copper': 6, 'livestock': 28, 'gold': 25, 'money-fx': 19, 'ipi': 30, 'trade': 11, 'cocoa': 0, \n",
    " 'iron-steel': 31, 'reserves': 12, 'tin': 26, 'zinc': 37, 'jobs': 34, 'ship': 13, 'cotton': 14, \n",
    " 'alum': 23, 'strategic-metal': 27, 'lead': 45, 'housing': 7, 'meal-feed': 22, 'gnp': 21, 'sugar': 10, \n",
    " 'rubber': 32, 'dlr': 40, 'veg-oil': 2, 'interest': 20, 'crude': 16, 'coffee': 9, 'wheat': 5, \n",
    " 'carcass': 15, 'lei': 35, 'gas': 41, 'nat-gas': 17, 'oilseed': 24, 'orange': 38, 'heat': 33, \n",
    " 'wpi': 43, 'silver': 42, 'cpi': 18, 'earn': 3, 'bop': 36, 'money-supply': 8, 'hog': 44, 'acq': 4, \n",
    " 'pet-chem': 39, 'grain': 1, 'retail': 29}\n",
    "\n",
    "# it seems that the 4th test example is indeed about 'ship' (shipping?) and not about 'acq' (acquisitions?)\n",
    "decode_newswire(test_data[4])"
   ]
  },
  {
   "cell_type": "code",
   "execution_count": 34,
   "metadata": {},
   "outputs": [
    {
     "data": {
      "text/plain": [
       "\"? grain traders said they were still awaiting results of yesterday's u k intervention feed wheat tender for the home market the market sought to buy 340 000 tonnes more than double the remaining 150 000 tonnes available under the current tender however some of the tonnage included ? bids for supplies in the same stores since the tenders started last july ? 000 tonnes of british feed wheat have been sold back to the home market reuter 3\""
      ]
     },
     "execution_count": 34,
     "metadata": {},
     "output_type": "execute_result"
    }
   ],
   "source": [
    "# 10th example is classified 1 : 'grain' but the test label has it as 5 : 'wheat'\n",
    "decode_newswire(test_data[10])"
   ]
  },
  {
   "cell_type": "code",
   "execution_count": null,
   "metadata": {},
   "outputs": [],
   "source": []
  }
 ],
 "metadata": {
  "kernelspec": {
   "display_name": "Python 3",
   "language": "python",
   "name": "python3"
  },
  "language_info": {
   "codemirror_mode": {
    "name": "ipython",
    "version": 3
   },
   "file_extension": ".py",
   "mimetype": "text/x-python",
   "name": "python",
   "nbconvert_exporter": "python",
   "pygments_lexer": "ipython3",
   "version": "3.7.3"
  }
 },
 "nbformat": 4,
 "nbformat_minor": 2
}
