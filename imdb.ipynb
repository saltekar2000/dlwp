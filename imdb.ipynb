{
 "cells": [
  {
   "cell_type": "markdown",
   "metadata": {},
   "source": [
    "# INTRODUCTION\n",
    "\n",
    "In this Jupyter notebook we build a model to classify movie reviews using the IMDB dataset in Keras.  The first part of the notebook follows chapter 3.4 of the Deep Learning With Python (DLWP) book and replicates the baseline model.  The later parts of the notebook contain experiments intended to improve performance."
   ]
  },
  {
   "cell_type": "code",
   "execution_count": 1,
   "metadata": {},
   "outputs": [],
   "source": [
    "# modules\n",
    "import itertools\n",
    "import numpy as np\n",
    "import tensorflow as tf\n",
    "import matplotlib.pyplot as plt\n",
    "\n",
    "# shortcuts to submodules\n",
    "imdb = tf.keras.datasets.imdb\n",
    "models = tf.keras.models\n",
    "layers = tf.keras.layers\n",
    "optimizers = tf.keras.optimizers\n",
    "losses = tf.keras.losses\n",
    "metrics = tf.keras.metrics"
   ]
  },
  {
   "cell_type": "code",
   "execution_count": 2,
   "metadata": {},
   "outputs": [],
   "source": [
    "NUM_WORDS = 10000"
   ]
  },
  {
   "cell_type": "code",
   "execution_count": 3,
   "metadata": {},
   "outputs": [],
   "source": [
    "# import dataset of reviews and their labels\n",
    "# limit review text to top 10000 commonly occuring words\n",
    "(train_data, train_labels), (test_data, test_labels) = imdb.load_data(num_words = NUM_WORDS)\n",
    "max_index_train = max([max(s) for s in train_data])\n",
    "max_index_test = max([max(s) for s in test_data])\n",
    "max_index = max([max_index_train, max_index_test])"
   ]
  },
  {
   "cell_type": "code",
   "execution_count": 4,
   "metadata": {},
   "outputs": [
    {
     "name": "stdout",
     "output_type": "stream",
     "text": [
      "summary of train_data\n",
      "---------------------\n",
      "type: <class 'numpy.ndarray'>\n",
      "shape: (25000,)\n",
      "type of train_data[0]: <class 'list'>\n",
      "length of train_data[:5]: [218, 189, 141, 550, 147]\n",
      "type of train_data[0][0]: <class 'int'>\n",
      "train_data[0][:10]: [1, 14, 22, 16, 43, 530, 973, 1622, 1385, 65]\n",
      "maximum entry in train_data and test_data: 9999\n",
      "\n",
      "summary of train_labels\n",
      "-----------------------\n",
      "type: <class 'numpy.ndarray'>\n",
      "shape: (25000,)\n",
      "type of train_labels[0]: <class 'numpy.int64'>\n",
      "train_labels[:10]: [1 0 0 1 0 0 1 0 1 0]\n",
      "number of negative reviews: 12500\n",
      "number of positive reviews: 12500\n",
      "\n",
      "summary of test_data\n",
      "--------------------\n",
      "shape: (25000,)\n",
      "\n",
      "summary of test_labels\n",
      "----------------------\n",
      "shape: (25000,)\n",
      "number of negative reviews: 12500\n",
      "number of positive reviews: 12500\n"
     ]
    }
   ],
   "source": [
    "print('summary of train_data')\n",
    "print('---------------------')\n",
    "print('type: ' + str(type(train_data)))\n",
    "print('shape: ' + str(train_data.shape))\n",
    "print('type of train_data[0]: ' + str(type(train_data[0])))\n",
    "print('length of train_data[:5]: ' + str([len(train_data[i]) for i in range(5)]))\n",
    "print('type of train_data[0][0]: ' + str(type(train_data[0][0])))\n",
    "print('train_data[0][:10]: ' + str(train_data[0][:10]))\n",
    "print('maximum entry in train_data and test_data: ' + str(max_index))\n",
    "print()\n",
    "print('summary of train_labels')\n",
    "print('-----------------------')\n",
    "print('type: ' + str(type(train_labels)))\n",
    "print('shape: ' + str(train_labels.shape))\n",
    "print('type of train_labels[0]: ' + str(type(train_labels[0])))\n",
    "print('train_labels[:10]: ' + str(train_labels[:10]))\n",
    "print('number of negative reviews: ' + str(np.sum(train_labels == 0)))\n",
    "print('number of positive reviews: ' + str(np.sum(train_labels == 1)))\n",
    "print()\n",
    "print('summary of test_data')\n",
    "print('--------------------')\n",
    "print('shape: ' + str(test_data.shape))\n",
    "print()\n",
    "print('summary of test_labels')\n",
    "print('----------------------')\n",
    "print('shape: ' + str(test_labels.shape))\n",
    "print('number of negative reviews: ' + str(np.sum(test_labels == 0)))\n",
    "print('number of positive reviews: ' + str(np.sum(test_labels == 1)))"
   ]
  },
  {
   "cell_type": "code",
   "execution_count": 5,
   "metadata": {},
   "outputs": [],
   "source": [
    "# get word to index mapping and create reverse mapping from index to word\n",
    "word_index = imdb.get_word_index()\n",
    "reverse_word_index = { value:key for key,value in word_index.items() }\n",
    "\n",
    "# helper function to decode index encoded reviews \n",
    "# index values 0, 1, 2 are reserved for \"padding\", \"start of sequence\", and \"unknown\"\n",
    "def decode_review( encoded_review ) : \n",
    "    return ' '.join([reverse_word_index.get(i-3, '?') for i in encoded_review])"
   ]
  },
  {
   "cell_type": "code",
   "execution_count": 6,
   "metadata": {},
   "outputs": [
    {
     "name": "stdout",
     "output_type": "stream",
     "text": [
      "\n",
      "number of entries word to index mapping dictionary: 88584\n",
      "number of entries index to word mapping dictionary: 88584\n",
      "low index values are common words: ['the', 'and', 'a', 'of', 'to', 'is', 'br', 'in', 'it']\n",
      "\n",
      "example of a positive review:\n",
      "-----------------------------\n",
      "? lavish production values and solid performances in this straightforward adaption of jane ? satirical classic about the marriage game within and between the classes in ? 18th century england northam and paltrow are a ? mixture as friends who must pass through ? and lies to discover that they love each other good humor is a ? virtue which goes a long way towards explaining the ? of the aged source material which has been toned down a bit in its harsh ? i liked the look of the film and how shots were set up and i thought it didn't rely too much on ? of head shots like most other films of the 80s and 90s do very good results\n",
      "\n",
      "example of a negative review:\n",
      "-----------------------------\n",
      "? this has to be one of the worst films of the 1990s when my friends i were watching this film being the target audience it was aimed at we just sat watched the first half an hour with our jaws touching the floor at how bad it really was the rest of the time everyone else in the theatre just started talking to each other leaving or generally crying into their popcorn that they actually paid money they had ? working to watch this feeble excuse for a film it must have looked like a great idea on paper but on film it looks like no one in the film has a clue what is going on crap acting crap costumes i can't get across how ? this is to watch save yourself an hour a bit of your life\n"
     ]
    }
   ],
   "source": [
    "print()\n",
    "print('number of entries word to index mapping dictionary: ' + str(len(word_index)))\n",
    "print('number of entries index to word mapping dictionary: ' + str(len(reverse_word_index)))\n",
    "print('low index values are common words: ' + str([reverse_word_index[i] for i in range(1,10)]))\n",
    "print()\n",
    "print('example of a positive review:')\n",
    "print('-----------------------------')\n",
    "positive_index = 6\n",
    "print(decode_review(train_data[positive_index]))\n",
    "print()\n",
    "print('example of a negative review:')\n",
    "print('-----------------------------')\n",
    "negative_index = 2\n",
    "print(decode_review(train_data[negative_index]))"
   ]
  },
  {
   "cell_type": "markdown",
   "metadata": {},
   "source": [
    "## Encoding\n",
    "Encode each review as a 10000-dimensional vector.  Each component of this vector is 0 or 1 indicating the absence or presence of the corresponding word in the review.  An alternate encoding counts the number of times the corresponding word is present."
   ]
  },
  {
   "cell_type": "code",
   "execution_count": 7,
   "metadata": {},
   "outputs": [],
   "source": [
    "# binary encoding of reviews - 1 if word is present\n",
    "def vectorize_sequences1( sequences, dimension = NUM_WORDS ):\n",
    "    results = np.zeros((len(sequences), dimension))\n",
    "    for i, sequence in enumerate(sequences):\n",
    "        results[i,sequence] = 1\n",
    "    return results\n",
    "\n",
    "# \"histogram\" encoding of reviews - counts number of times word is present\n",
    "def vectorize_sequences2( sequences, dimension = NUM_WORDS ):\n",
    "    results = np.zeros((len(sequences), dimension))\n",
    "    for i, sequence in enumerate(sequences):\n",
    "        results[i,sequence] += 1\n",
    "    return results\n",
    "\n",
    "x_train = vectorize_sequences1(train_data)\n",
    "x_test = vectorize_sequences1(test_data)"
   ]
  },
  {
   "cell_type": "code",
   "execution_count": 8,
   "metadata": {},
   "outputs": [],
   "source": [
    "# vectorize labels -- don't know why this is necessary (int64-->float32?)\n",
    "y_train = np.asarray(train_labels).astype('float32')\n",
    "y_test = np.asarray(test_labels).astype('float32')"
   ]
  },
  {
   "cell_type": "code",
   "execution_count": 9,
   "metadata": {},
   "outputs": [],
   "source": [
    "# the model from the book\n",
    "def build_model1():\n",
    "    model = models.Sequential()\n",
    "    model.add(layers.Dense(16, activation='relu', input_shape = (NUM_WORDS,)))\n",
    "    model.add(layers.Dense(16, activation='relu'))\n",
    "    model.add(layers.Dense(1, activation='sigmoid'))\n",
    "    return model\n",
    "\n",
    "# same model with 2nd layer cut in half\n",
    "def build_model2():\n",
    "    model = models.Sequential()\n",
    "    model.add(layers.Dense(16, activation='relu', input_shape = (NUM_WORDS,)))\n",
    "    model.add(layers.Dense(8, activation='relu'))\n",
    "    model.add(layers.Dense(1, activation='sigmoid'))\n",
    "    return model"
   ]
  },
  {
   "cell_type": "code",
   "execution_count": 10,
   "metadata": {},
   "outputs": [
    {
     "name": "stderr",
     "output_type": "stream",
     "text": [
      "WARNING: Logging before flag parsing goes to stderr.\n",
      "W0830 10:06:53.033147 140403017676608 deprecation.py:506] From /home/shirish/anaconda3/envs/tf/lib/python3.7/site-packages/tensorflow/python/ops/init_ops.py:1251: calling VarianceScaling.__init__ (from tensorflow.python.ops.init_ops) with dtype is deprecated and will be removed in a future version.\n",
      "Instructions for updating:\n",
      "Call initializer instance with the dtype argument instead of passing it to the constructor\n",
      "W0830 10:06:53.088341 140403017676608 deprecation.py:323] From /home/shirish/anaconda3/envs/tf/lib/python3.7/site-packages/tensorflow/python/ops/nn_impl.py:180: add_dispatch_support.<locals>.wrapper (from tensorflow.python.ops.array_ops) is deprecated and will be removed in a future version.\n",
      "Instructions for updating:\n",
      "Use tf.where in 2.0, which has the same broadcast rule as np.where\n"
     ]
    }
   ],
   "source": [
    "model = build_model1()\n",
    "model.compile(optimizer = 'rmsprop', loss = 'binary_crossentropy', metrics = ['accuracy'])"
   ]
  },
  {
   "cell_type": "code",
   "execution_count": 11,
   "metadata": {},
   "outputs": [],
   "source": [
    "# set aside a validation set\n",
    "VALIDATION_SIZE = 10000\n",
    "from random import shuffle\n",
    "index = list(range(x_train.shape[0]))\n",
    "#shuffle(index)  # comment this out if non-random split is desired\n",
    "x_val = x_train[index[:VALIDATION_SIZE]]\n",
    "partial_x_train = x_train[index[VALIDATION_SIZE:]]\n",
    "y_val = y_train[index[:VALIDATION_SIZE]]\n",
    "partial_y_train = y_train[index[VALIDATION_SIZE:]]"
   ]
  },
  {
   "cell_type": "code",
   "execution_count": 12,
   "metadata": {},
   "outputs": [
    {
     "name": "stdout",
     "output_type": "stream",
     "text": [
      "Train on 15000 samples, validate on 10000 samples\n",
      "Epoch 1/20\n",
      "15000/15000 [==============================] - 2s 105us/sample - loss: 0.5039 - acc: 0.7980 - val_loss: 0.3828 - val_acc: 0.8671\n",
      "Epoch 2/20\n",
      "15000/15000 [==============================] - 1s 89us/sample - loss: 0.3009 - acc: 0.9031 - val_loss: 0.3132 - val_acc: 0.8774\n",
      "Epoch 3/20\n",
      "15000/15000 [==============================] - 1s 91us/sample - loss: 0.2233 - acc: 0.9255 - val_loss: 0.2762 - val_acc: 0.8924\n",
      "Epoch 4/20\n",
      "15000/15000 [==============================] - 1s 89us/sample - loss: 0.1783 - acc: 0.9406 - val_loss: 0.2752 - val_acc: 0.8891\n",
      "Epoch 5/20\n",
      "15000/15000 [==============================] - 1s 89us/sample - loss: 0.1431 - acc: 0.9537 - val_loss: 0.2796 - val_acc: 0.8891\n",
      "Epoch 6/20\n",
      "15000/15000 [==============================] - 1s 93us/sample - loss: 0.1199 - acc: 0.9623 - val_loss: 0.2899 - val_acc: 0.8875\n",
      "Epoch 7/20\n",
      "15000/15000 [==============================] - 1s 91us/sample - loss: 0.1013 - acc: 0.9691 - val_loss: 0.3065 - val_acc: 0.8845\n",
      "Epoch 8/20\n",
      "15000/15000 [==============================] - 1s 87us/sample - loss: 0.0819 - acc: 0.9775 - val_loss: 0.3254 - val_acc: 0.8829\n",
      "Epoch 9/20\n",
      "15000/15000 [==============================] - 1s 88us/sample - loss: 0.0681 - acc: 0.9817 - val_loss: 0.3549 - val_acc: 0.8803\n",
      "Epoch 10/20\n",
      "15000/15000 [==============================] - 1s 87us/sample - loss: 0.0572 - acc: 0.9851 - val_loss: 0.3738 - val_acc: 0.8776\n",
      "Epoch 11/20\n",
      "15000/15000 [==============================] - 1s 88us/sample - loss: 0.0466 - acc: 0.9882 - val_loss: 0.4192 - val_acc: 0.8698\n",
      "Epoch 12/20\n",
      "15000/15000 [==============================] - 1s 87us/sample - loss: 0.0364 - acc: 0.9924 - val_loss: 0.4259 - val_acc: 0.8752\n",
      "Epoch 13/20\n",
      "15000/15000 [==============================] - 1s 87us/sample - loss: 0.0311 - acc: 0.9933 - val_loss: 0.4554 - val_acc: 0.8729\n",
      "Epoch 14/20\n",
      "15000/15000 [==============================] - 1s 88us/sample - loss: 0.0249 - acc: 0.9953 - val_loss: 0.4846 - val_acc: 0.8714\n",
      "Epoch 15/20\n",
      "15000/15000 [==============================] - 1s 88us/sample - loss: 0.0209 - acc: 0.9969 - val_loss: 0.5170 - val_acc: 0.8731\n",
      "Epoch 16/20\n",
      "15000/15000 [==============================] - 1s 88us/sample - loss: 0.0178 - acc: 0.9970 - val_loss: 0.5567 - val_acc: 0.8715\n",
      "Epoch 17/20\n",
      "15000/15000 [==============================] - 1s 90us/sample - loss: 0.0098 - acc: 0.9997 - val_loss: 0.5835 - val_acc: 0.8669\n",
      "Epoch 18/20\n",
      "15000/15000 [==============================] - 1s 88us/sample - loss: 0.0103 - acc: 0.9985 - val_loss: 0.6273 - val_acc: 0.8640\n",
      "Epoch 19/20\n",
      "15000/15000 [==============================] - 1s 88us/sample - loss: 0.0055 - acc: 0.9999 - val_loss: 0.6796 - val_acc: 0.8678\n",
      "Epoch 20/20\n",
      "15000/15000 [==============================] - 1s 87us/sample - loss: 0.0071 - acc: 0.9992 - val_loss: 0.7057 - val_acc: 0.8656\n"
     ]
    }
   ],
   "source": [
    "# train model\n",
    "history = model.fit(partial_x_train, partial_y_train, epochs = 20, \n",
    "                    batch_size = 512, validation_data = (x_val, y_val))"
   ]
  },
  {
   "cell_type": "code",
   "execution_count": 13,
   "metadata": {},
   "outputs": [],
   "source": [
    "# extract logs of loss and accuracy\n",
    "history_dict = history.history\n",
    "loss_values = history_dict['loss']\n",
    "val_loss_values = history_dict['val_loss']\n",
    "acc = history_dict['acc']\n",
    "val_acc = history_dict['val_acc']\n",
    "epochs = range(1,len(loss_values)+1)"
   ]
  },
  {
   "cell_type": "code",
   "execution_count": 14,
   "metadata": {},
   "outputs": [
    {
     "data": {
      "image/png": "[encoded data removed]",
      "text/plain": [
       "<Figure size 432x288 with 1 Axes>"
      ]
     },
     "metadata": {
      "needs_background": "light"
     },
     "output_type": "display_data"
    }
   ],
   "source": [
    "# plot loss for training and validation set\n",
    "plt.clf()\n",
    "plt.plot(epochs, loss_values, 'bo', label='Training loss')\n",
    "plt.plot(epochs, val_loss_values, 'b', label='Validation loss')\n",
    "plt.title('Training and Validation Loss')\n",
    "plt.xlabel('Epochs')\n",
    "plt.ylabel('Loss')\n",
    "plt.legend()\n",
    "plt.show()"
   ]
  },
  {
   "cell_type": "code",
   "execution_count": 15,
   "metadata": {},
   "outputs": [
    {
     "data": {
      "image/png": "[encoded data removed]",
      "text/plain": [
       "<Figure size 432x288 with 1 Axes>"
      ]
     },
     "metadata": {
      "needs_background": "light"
     },
     "output_type": "display_data"
    }
   ],
   "source": [
    "# plot accuracy for training and validation set\n",
    "plt.clf()\n",
    "plt.plot(epochs, acc, 'bo', label='Training accuracy')\n",
    "plt.plot(epochs, val_acc, 'b', label='Validation accuracy')\n",
    "plt.title('Training and Validation Accuracy')\n",
    "plt.xlabel('Epochs')\n",
    "plt.ylabel('Accuracy')\n",
    "plt.legend()\n",
    "plt.show()"
   ]
  },
  {
   "cell_type": "code",
   "execution_count": 16,
   "metadata": {},
   "outputs": [
    {
     "name": "stdout",
     "output_type": "stream",
     "text": [
      "25000/25000 [==============================] - 1s 46us/sample - loss: 0.7659 - acc: 0.8520\n",
      "test loss = 0.7658511621928215, test accuracy = 0.85196\n"
     ]
    }
   ],
   "source": [
    "# evaluate model on test set\n",
    "results = model.evaluate(x_test, y_test)\n",
    "print('test loss = ' + str(results[0]) + ', test accuracy = ' + str(results[1]))"
   ]
  },
  {
   "cell_type": "markdown",
   "metadata": {},
   "source": [
    "## Improvement\n",
    "We now attempt to improve the test accuracy by choosing the words with which to represent the reviews in a different manner.  The approach thus far has kept the 10000 most frequently occurring words.  Some of these would be common words like \"the\", \"of\", \"to\", \"and\", etc.  It is reasonable to think that these words will not help separate the two classes of positive and negative reviews. Moreover, it is reasonable to think that there are classes of words associated with negative and positive reviews that should be included.\n",
    "\n",
    "The conditional histograms (conditioned on positive or negative review) of word occurance frequencies are computed.  Then a score (between -1 and +1) is computed such that words that occur mainly in negative reviews get a score close to -1 and those in mostly positive reviews get a score close to +1.  Words that occur with equal frequencies get a score close to 0."
   ]
  },
  {
   "cell_type": "code",
   "execution_count": 17,
   "metadata": {},
   "outputs": [],
   "source": [
    "# reload data with no limits on words\n",
    "(train_data, train_labels), (test_data, test_labels) = imdb.load_data()\n",
    "max_index_train = max([max(s) for s in train_data])\n",
    "max_index_test = max([max(s) for s in test_data])\n",
    "max_index = max([max_index_train, max_index_test])"
   ]
  },
  {
   "cell_type": "code",
   "execution_count": 18,
   "metadata": {},
   "outputs": [],
   "source": [
    "# create a histogram of frequency counts of each word conditioned on negative or positive review\n",
    "flatlist0 = list(itertools.chain.from_iterable(train_data[train_labels == 0]))  # concatinate negative reviews\n",
    "flatlist1 = list(itertools.chain.from_iterable(train_data[train_labels == 1]))  # concatinate positive reviews\n",
    "freq0 = np.bincount(flatlist0, minlength = max_index+1)  # count occurance of each word\n",
    "freq1 = np.bincount(flatlist1, minlength = max_index+1)\n",
    "# hack to avoid divide by 0\n",
    "both_zero = np.logical_and(freq0 == 0, freq1 == 0)\n",
    "freq0[both_zero] = 1\n",
    "freq1[both_zero] = 1\n",
    "score = (freq1 - freq0)/(freq1 + freq0)"
   ]
  },
  {
   "cell_type": "code",
   "execution_count": 19,
   "metadata": {},
   "outputs": [
    {
     "name": "stdout",
     "output_type": "stream",
     "text": [
      "NEGATIVE WORDS:\n",
      "worst, awful, waste, lame, poorly, pointless, laughable, redeeming, sucks, unfunny, lousy, insult, atrocious, blah, remotely, existent, wasting, mst3k, boredom, seagal, incoherent, boll, drivel, miserably, uninspired, horrid, prom, unwatchable, stinker, uwe\n",
      "POSITIVE WORDS:\n",
      "wonderfully, captures, victoria, powell, bourne, perfection, matthau, superbly, flawless, astaire, brosnan, felix, gandhi, mildred, paulie, voight, edie, gundam, masterful, polanski, christy, othello, peters, din, walsh, antwone, dixon, ramones, wang, carell\n",
      "NEUTRAL WORDS:\n",
      "?, the, and, a, of, to, is, br, in, it, i, this, that, was, for, with, but, film, on, not, you, are, have, he, be, one, all, at, by, an\n"
     ]
    }
   ],
   "source": [
    "# create sets of negative, positive and neutral words\n",
    "SIGNIFICANCE_THRESHOLD = 10\n",
    "negative_words, = np.where(np.logical_and(score < -0.75, freq0 + freq1 > SIGNIFICANCE_THRESHOLD))\n",
    "positive_words, = np.where(np.logical_and(score > 0.75, freq0 + freq1 > SIGNIFICANCE_THRESHOLD))\n",
    "neutral_words, = np.where(np.logical_and(np.abs(score) < 0.1, freq0 + freq1 > SIGNIFICANCE_THRESHOLD))\n",
    "assert(negative_words.shape[0]+positive_words.shape[0] <= NUM_WORDS)\n",
    "print('NEGATIVE WORDS:')\n",
    "print(', '.join([reverse_word_index.get(i-3,'?') for i in negative_words[:30]]))\n",
    "print('POSITIVE WORDS:')\n",
    "print(', '.join([reverse_word_index.get(i-3,'?') for i in positive_words[:30]]))\n",
    "print('NEUTRAL WORDS:')\n",
    "print(', '.join([reverse_word_index.get(i-3,'?') for i in neutral_words[:30]]))"
   ]
  },
  {
   "cell_type": "code",
   "execution_count": 20,
   "metadata": {},
   "outputs": [
    {
     "name": "stdout",
     "output_type": "stream",
     "text": [
      "INCLUDED WORDS:\n",
      "as, movie, his, they, so, like, her, or, just, if, there, very, no, she, even, would, only, story, were, well, bad, will, do, also, great, him, most, don't, its, then\n"
     ]
    }
   ],
   "source": [
    "# create list of 10000 included words to embed reviews\n",
    "important_words = np.union1d(negative_words,positive_words)\n",
    "remaining_words = np.setdiff1d(np.array(range(4,max_index+1)),np.union1d(important_words,neutral_words))\n",
    "included_words = np.union1d(important_words,remaining_words[:NUM_WORDS-important_words.shape[0]])\n",
    "included_words.sort()\n",
    "print('INCLUDED WORDS:')\n",
    "print(', '.join([reverse_word_index.get(i-3,'?') for i in included_words[:30]]))"
   ]
  },
  {
   "cell_type": "code",
   "execution_count": 21,
   "metadata": {},
   "outputs": [],
   "source": [
    "# create encoding using included words\n",
    "included_words_map = np.zeros((max_index+2,), dtype='int64')\n",
    "included_words_map[included_words] = np.array(list(range(included_words.shape[0])))+1  # zero reserved for unincluded word\n",
    "\n",
    "# binary encoding of reviews - 1 if word is present\n",
    "def vectorize_sequences3( sequences, dimension = NUM_WORDS ):\n",
    "    results = np.zeros((len(sequences), dimension+1))\n",
    "    for i, sequence in enumerate(sequences):\n",
    "        idx = included_words_map[sequence]\n",
    "        results[i,idx] = 1\n",
    "    results = results[:,1:]  # remove unincluded word \n",
    "    return results# train model\n",
    "\n",
    "x_train = vectorize_sequences3(train_data)\n",
    "x_test = vectorize_sequences3(test_data)"
   ]
  },
  {
   "cell_type": "code",
   "execution_count": 22,
   "metadata": {},
   "outputs": [],
   "source": [
    "# vectorize labels -- don't know why this is necessary (int64-->float32?)\n",
    "y_train = np.asarray(train_labels).astype('float32')\n",
    "y_test = np.asarray(test_labels).astype('float32')"
   ]
  },
  {
   "cell_type": "code",
   "execution_count": 23,
   "metadata": {},
   "outputs": [],
   "source": [
    "model = build_model1()\n",
    "model.compile(optimizer = 'rmsprop', loss = 'binary_crossentropy', metrics = ['accuracy'])"
   ]
  },
  {
   "cell_type": "code",
   "execution_count": 24,
   "metadata": {},
   "outputs": [],
   "source": [
    "# set aside a validation set\n",
    "VALIDATION_SIZE = 10000\n",
    "from random import shuffle\n",
    "index = list(range(x_train.shape[0]))\n",
    "#shuffle(index)  # comment this out if non-random split is desired\n",
    "x_val = x_train[index[:VALIDATION_SIZE]]\n",
    "partial_x_train = x_train[index[VALIDATION_SIZE:]]\n",
    "y_val = y_train[index[:VALIDATION_SIZE]]\n",
    "partial_y_train = y_train[index[VALIDATION_SIZE:]]"
   ]
  },
  {
   "cell_type": "code",
   "execution_count": 25,
   "metadata": {},
   "outputs": [
    {
     "name": "stdout",
     "output_type": "stream",
     "text": [
      "Train on 15000 samples, validate on 10000 samples\n",
      "Epoch 1/20\n",
      "15000/15000 [==============================] - 2s 116us/sample - loss: 0.6029 - acc: 0.7135 - val_loss: 0.5154 - val_acc: 0.8486\n",
      "Epoch 2/20\n",
      "15000/15000 [==============================] - 1s 98us/sample - loss: 0.4481 - acc: 0.8841 - val_loss: 0.4150 - val_acc: 0.8835\n",
      "Epoch 3/20\n",
      "15000/15000 [==============================] - 1s 97us/sample - loss: 0.3454 - acc: 0.9165 - val_loss: 0.3488 - val_acc: 0.8918\n",
      "Epoch 4/20\n",
      "15000/15000 [==============================] - 1s 97us/sample - loss: 0.2720 - acc: 0.9317 - val_loss: 0.3084 - val_acc: 0.8936\n",
      "Epoch 5/20\n",
      "15000/15000 [==============================] - 1s 97us/sample - loss: 0.2201 - acc: 0.9433 - val_loss: 0.2843 - val_acc: 0.8969\n",
      "Epoch 6/20\n",
      "15000/15000 [==============================] - 1s 90us/sample - loss: 0.1822 - acc: 0.9523 - val_loss: 0.2722 - val_acc: 0.8987\n",
      "Epoch 7/20\n",
      "15000/15000 [==============================] - 1s 91us/sample - loss: 0.1530 - acc: 0.9603 - val_loss: 0.2759 - val_acc: 0.8953\n",
      "Epoch 8/20\n",
      "15000/15000 [==============================] - 1s 86us/sample - loss: 0.1305 - acc: 0.9662 - val_loss: 0.2714 - val_acc: 0.8985\n",
      "Epoch 9/20\n",
      "15000/15000 [==============================] - 1s 89us/sample - loss: 0.1111 - acc: 0.9727 - val_loss: 0.2832 - val_acc: 0.8959\n",
      "Epoch 10/20\n",
      "15000/15000 [==============================] - 1s 91us/sample - loss: 0.0955 - acc: 0.9761 - val_loss: 0.2867 - val_acc: 0.8962\n",
      "Epoch 11/20\n",
      "15000/15000 [==============================] - 1s 89us/sample - loss: 0.0826 - acc: 0.9798 - val_loss: 0.3083 - val_acc: 0.8922\n",
      "Epoch 12/20\n",
      "15000/15000 [==============================] - 1s 91us/sample - loss: 0.0698 - acc: 0.9843 - val_loss: 0.3191 - val_acc: 0.8923\n",
      "Epoch 13/20\n",
      "15000/15000 [==============================] - 1s 87us/sample - loss: 0.0612 - acc: 0.9866 - val_loss: 0.3310 - val_acc: 0.8930\n",
      "Epoch 14/20\n",
      "15000/15000 [==============================] - 1s 91us/sample - loss: 0.0506 - acc: 0.9901 - val_loss: 0.3548 - val_acc: 0.8897\n",
      "Epoch 15/20\n",
      "15000/15000 [==============================] - 1s 88us/sample - loss: 0.0430 - acc: 0.9923 - val_loss: 0.3678 - val_acc: 0.8893\n",
      "Epoch 16/20\n",
      "15000/15000 [==============================] - 1s 97us/sample - loss: 0.0362 - acc: 0.9933 - val_loss: 0.3989 - val_acc: 0.8864\n",
      "Epoch 17/20\n",
      "15000/15000 [==============================] - 1s 97us/sample - loss: 0.0305 - acc: 0.9947 - val_loss: 0.4138 - val_acc: 0.8831\n",
      "Epoch 18/20\n",
      "15000/15000 [==============================] - 1s 99us/sample - loss: 0.0248 - acc: 0.9960 - val_loss: 0.4359 - val_acc: 0.8841\n",
      "Epoch 19/20\n",
      "15000/15000 [==============================] - 1s 97us/sample - loss: 0.0201 - acc: 0.9975 - val_loss: 0.4687 - val_acc: 0.8816\n",
      "Epoch 20/20\n",
      "15000/15000 [==============================] - 1s 94us/sample - loss: 0.0164 - acc: 0.9978 - val_loss: 0.4923 - val_acc: 0.8811\n"
     ]
    }
   ],
   "source": [
    "# train model\n",
    "history = model.fit(partial_x_train, partial_y_train, epochs = 20, \n",
    "                    batch_size = 1024, validation_data = (x_val, y_val))"
   ]
  },
  {
   "cell_type": "code",
   "execution_count": 26,
   "metadata": {},
   "outputs": [
    {
     "name": "stdout",
     "output_type": "stream",
     "text": [
      "25000/25000 [==============================] - 1s 52us/sample - loss: 0.5939 - acc: 0.8506\n",
      "test loss = 0.5938668614435196, test accuracy = 0.85064\n"
     ]
    }
   ],
   "source": [
    "# evaluate model on test set\n",
    "results = model.evaluate(x_test, y_test)\n",
    "print('test loss = ' + str(results[0]) + ', test accuracy = ' + str(results[1]))"
   ]
  },
  {
   "cell_type": "markdown",
   "metadata": {},
   "source": [
    "## Conclusion\n",
    "Inspite of carefully picking the list of 10000 words to represent our reviews, we only achieve a 1.5% improvement on the validation set and in fact don't improve accuracy on our test set.  The exact numbers depend on the specifics of how the set of \"included\" words is chosen. One would have to optimize over this as a set of hyperparameters. It's possible we need to look at higher order word sequences (e.g. bigrams) to gain meaningful improvements.  Or this type of problem is best approached using RNNs."
   ]
  }
 ],
 "metadata": {
  "kernelspec": {
   "display_name": "Python 3",
   "language": "python",
   "name": "python3"
  },
  "language_info": {
   "codemirror_mode": {
    "name": "ipython",
    "version": 3
   },
   "file_extension": ".py",
   "mimetype": "text/x-python",
   "name": "python",
   "nbconvert_exporter": "python",
   "pygments_lexer": "ipython3",
   "version": "3.7.3"
  }
 },
 "nbformat": 4,
 "nbformat_minor": 2
}
