{
 "cells": [
  {
   "cell_type": "markdown",
   "metadata": {},
   "source": [
    "# INTRODUCTION\n",
    "\n",
    "In this Jupyter notebook we build a model to classify movie reviews using the IMDB dataset in Keras.  The first part of the notebook follows chapter 3.4 of the Deep Learning With Python (DLWP) book and replicates the baseline model.  The later parts of the notebook contain experiments intended to improve performance."
   ]
  },
  {
   "cell_type": "code",
   "execution_count": 1,
   "metadata": {},
   "outputs": [],
   "source": [
    "# modules\n",
    "import itertools\n",
    "import numpy as np\n",
    "import tensorflow as tf\n",
    "import matplotlib.pyplot as plt\n",
    "\n",
    "# shortcuts to submodules\n",
    "imdb = tf.keras.datasets.imdb\n",
    "models = tf.keras.models\n",
    "layers = tf.keras.layers\n",
    "optimizers = tf.keras.optimizers\n",
    "losses = tf.keras.losses\n",
    "metrics = tf.keras.metrics"
   ]
  },
  {
   "cell_type": "code",
   "execution_count": 2,
   "metadata": {},
   "outputs": [],
   "source": [
    "NUM_WORDS = 10000"
   ]
  },
  {
   "cell_type": "code",
   "execution_count": 3,
   "metadata": {},
   "outputs": [],
   "source": [
    "# import dataset of reviews and their labels\n",
    "# limit review text to top 10000 commonly occuring words\n",
    "(train_data, train_labels), (test_data, test_labels) = imdb.load_data(num_words = NUM_WORDS)\n",
    "max_index_train = max([max(s) for s in train_data])\n",
    "max_index_test = max([max(s) for s in test_data])\n",
    "max_index = max([max_index_train, max_index_test])"
   ]
  },
  {
   "cell_type": "code",
   "execution_count": 4,
   "metadata": {},
   "outputs": [
    {
     "name": "stdout",
     "output_type": "stream",
     "text": [
      "summary of train_data\n",
      "---------------------\n",
      "type: <class 'numpy.ndarray'>\n",
      "shape: (25000,)\n",
      "type of train_data[0]: <class 'list'>\n",
      "length of train_data[:5]: [218, 189, 141, 550, 147]\n",
      "type of train_data[0][0]: <class 'int'>\n",
      "train_data[0][:10]: [1, 14, 22, 16, 43, 530, 973, 1622, 1385, 65]\n",
      "maximum entry in train_data and test_data: 9999\n",
      "\n",
      "summary of train_labels\n",
      "-----------------------\n",
      "type: <class 'numpy.ndarray'>\n",
      "shape: (25000,)\n",
      "type of train_labels[0]: <class 'numpy.int64'>\n",
      "train_labels[:10]: [1 0 0 1 0 0 1 0 1 0]\n",
      "number of negative reviews: 12500\n",
      "number of positive reviews: 12500\n",
      "\n",
      "summary of test_data\n",
      "--------------------\n",
      "shape: (25000,)\n",
      "\n",
      "summary of test_labels\n",
      "----------------------\n",
      "shape: (25000,)\n",
      "number of negative reviews: 12500\n",
      "number of positive reviews: 12500\n"
     ]
    }
   ],
   "source": [
    "print('summary of train_data')\n",
    "print('---------------------')\n",
    "print('type: ' + str(type(train_data)))\n",
    "print('shape: ' + str(train_data.shape))\n",
    "print('type of train_data[0]: ' + str(type(train_data[0])))\n",
    "print('length of train_data[:5]: ' + str([len(train_data[i]) for i in range(5)]))\n",
    "print('type of train_data[0][0]: ' + str(type(train_data[0][0])))\n",
    "print('train_data[0][:10]: ' + str(train_data[0][:10]))\n",
    "print('maximum entry in train_data and test_data: ' + str(max_index))\n",
    "print()\n",
    "print('summary of train_labels')\n",
    "print('-----------------------')\n",
    "print('type: ' + str(type(train_labels)))\n",
    "print('shape: ' + str(train_labels.shape))\n",
    "print('type of train_labels[0]: ' + str(type(train_labels[0])))\n",
    "print('train_labels[:10]: ' + str(train_labels[:10]))\n",
    "print('number of negative reviews: ' + str(np.sum(train_labels == 0)))\n",
    "print('number of positive reviews: ' + str(np.sum(train_labels == 1)))\n",
    "print()\n",
    "print('summary of test_data')\n",
    "print('--------------------')\n",
    "print('shape: ' + str(test_data.shape))\n",
    "print()\n",
    "print('summary of test_labels')\n",
    "print('----------------------')\n",
    "print('shape: ' + str(test_labels.shape))\n",
    "print('number of negative reviews: ' + str(np.sum(test_labels == 0)))\n",
    "print('number of positive reviews: ' + str(np.sum(test_labels == 1)))"
   ]
  },
  {
   "cell_type": "code",
   "execution_count": 5,
   "metadata": {},
   "outputs": [],
   "source": [
    "# get word to index mapping and create reverse mapping from index to word\n",
    "word_index = imdb.get_word_index()\n",
    "reverse_word_index = { value:key for key,value in word_index.items() }\n",
    "\n",
    "# helper function to decode index encoded reviews \n",
    "# index values 0, 1, 2 are reserved for \"padding\", \"start of sequence\", and \"unknown\"\n",
    "def decode_review( encoded_review ) : \n",
    "    return ' '.join([reverse_word_index.get(i-3, '?') for i in encoded_review])"
   ]
  },
  {
   "cell_type": "code",
   "execution_count": 6,
   "metadata": {},
   "outputs": [
    {
     "name": "stdout",
     "output_type": "stream",
     "text": [
      "\n",
      "number of entries word to index mapping dictionary: 88584\n",
      "number of entries index to word mapping dictionary: 88584\n",
      "low index values are common words: ['the', 'and', 'a', 'of', 'to', 'is', 'br', 'in', 'it']\n",
      "\n",
      "example of a positive review:\n",
      "-----------------------------\n",
      "? lavish production values and solid performances in this straightforward adaption of jane ? satirical classic about the marriage game within and between the classes in ? 18th century england northam and paltrow are a ? mixture as friends who must pass through ? and lies to discover that they love each other good humor is a ? virtue which goes a long way towards explaining the ? of the aged source material which has been toned down a bit in its harsh ? i liked the look of the film and how shots were set up and i thought it didn't rely too much on ? of head shots like most other films of the 80s and 90s do very good results\n",
      "\n",
      "example of a negative review:\n",
      "-----------------------------\n",
      "? this has to be one of the worst films of the 1990s when my friends i were watching this film being the target audience it was aimed at we just sat watched the first half an hour with our jaws touching the floor at how bad it really was the rest of the time everyone else in the theatre just started talking to each other leaving or generally crying into their popcorn that they actually paid money they had ? working to watch this feeble excuse for a film it must have looked like a great idea on paper but on film it looks like no one in the film has a clue what is going on crap acting crap costumes i can't get across how ? this is to watch save yourself an hour a bit of your life\n"
     ]
    }
   ],
   "source": [
    "print()\n",
    "print('number of entries word to index mapping dictionary: ' + str(len(word_index)))\n",
    "print('number of entries index to word mapping dictionary: ' + str(len(reverse_word_index)))\n",
    "print('low index values are common words: ' + str([reverse_word_index[i] for i in range(1,10)]))\n",
    "print()\n",
    "print('example of a positive review:')\n",
    "print('-----------------------------')\n",
    "positive_index = 6\n",
    "print(decode_review(train_data[positive_index]))\n",
    "print()\n",
    "print('example of a negative review:')\n",
    "print('-----------------------------')\n",
    "negative_index = 2\n",
    "print(decode_review(train_data[negative_index]))"
   ]
  },
  {
   "cell_type": "markdown",
   "metadata": {},
   "source": [
    "## Encoding\n",
    "Encode each review as a 10000-dimensional vector.  Each component of this vector is 0 or 1 indicating the absence or presence of the corresponding word in the review.  An alternate encoding counts the number of times the corresponding word is present."
   ]
  },
  {
   "cell_type": "code",
   "execution_count": 7,
   "metadata": {},
   "outputs": [],
   "source": [
    "# binary encoding of reviews - 1 if word is present\n",
    "def vectorize_sequences1( sequences, dimension = NUM_WORDS ):\n",
    "    results = np.zeros((len(sequences), dimension))\n",
    "    for i, sequence in enumerate(sequences):\n",
    "        results[i,sequence] = 1\n",
    "    return results\n",
    "\n",
    "# \"histogram\" encoding of reviews - counts number of times word is present\n",
    "def vectorize_sequences2( sequences, dimension = NUM_WORDS ):\n",
    "    results = np.zeros((len(sequences), dimension))\n",
    "    for i, sequence in enumerate(sequences):\n",
    "        results[i,sequence] += 1\n",
    "    return results\n",
    "\n",
    "x_train = vectorize_sequences1(train_data)\n",
    "x_test = vectorize_sequences1(test_data)"
   ]
  },
  {
   "cell_type": "code",
   "execution_count": 8,
   "metadata": {},
   "outputs": [],
   "source": [
    "# vectorize labels -- don't know why this is necessary (int64-->float32?)\n",
    "y_train = np.asarray(train_labels).astype('float32')\n",
    "y_test = np.asarray(test_labels).astype('float32')"
   ]
  },
  {
   "cell_type": "code",
   "execution_count": 9,
   "metadata": {},
   "outputs": [],
   "source": [
    "# the model from the book\n",
    "def build_model1():\n",
    "    model = models.Sequential()\n",
    "    model.add(layers.Dense(16, activation='relu', input_shape = (NUM_WORDS,)))\n",
    "    model.add(layers.Dense(16, activation='relu'))\n",
    "    model.add(layers.Dense(1, activation='sigmoid'))\n",
    "    return model\n",
    "\n",
    "# same model with 2nd layer cut in half\n",
    "def build_model2():\n",
    "    model = models.Sequential()\n",
    "    model.add(layers.Dense(16, activation='relu', input_shape = (NUM_WORDS,)))\n",
    "    model.add(layers.Dense(8, activation='relu'))\n",
    "    model.add(layers.Dense(1, activation='sigmoid'))\n",
    "    return model"
   ]
  },
  {
   "cell_type": "code",
   "execution_count": 10,
   "metadata": {},
   "outputs": [
    {
     "name": "stderr",
     "output_type": "stream",
     "text": [
      "WARNING: Logging before flag parsing goes to stderr.\n",
      "W0830 09:02:52.190728 140377162016576 deprecation.py:506] From /home/shirish/anaconda3/envs/tf/lib/python3.7/site-packages/tensorflow/python/ops/init_ops.py:1251: calling VarianceScaling.__init__ (from tensorflow.python.ops.init_ops) with dtype is deprecated and will be removed in a future version.\n",
      "Instructions for updating:\n",
      "Call initializer instance with the dtype argument instead of passing it to the constructor\n",
      "W0830 09:02:52.246273 140377162016576 deprecation.py:323] From /home/shirish/anaconda3/envs/tf/lib/python3.7/site-packages/tensorflow/python/ops/nn_impl.py:180: add_dispatch_support.<locals>.wrapper (from tensorflow.python.ops.array_ops) is deprecated and will be removed in a future version.\n",
      "Instructions for updating:\n",
      "Use tf.where in 2.0, which has the same broadcast rule as np.where\n"
     ]
    }
   ],
   "source": [
    "model = build_model1()\n",
    "model.compile(optimizer = 'rmsprop', loss = 'binary_crossentropy', metrics = ['accuracy'])"
   ]
  },
  {
   "cell_type": "code",
   "execution_count": 11,
   "metadata": {},
   "outputs": [],
   "source": [
    "# set aside a validation set\n",
    "VALIDATION_SIZE = 10000\n",
    "from random import shuffle\n",
    "index = list(range(x_train.shape[0]))\n",
    "#shuffle(index)  # comment this out if non-random split is desired\n",
    "x_val = x_train[index[:VALIDATION_SIZE]]\n",
    "partial_x_train = x_train[index[VALIDATION_SIZE:]]\n",
    "y_val = y_train[index[:VALIDATION_SIZE]]\n",
    "partial_y_train = y_train[index[VALIDATION_SIZE:]]"
   ]
  },
  {
   "cell_type": "code",
   "execution_count": 12,
   "metadata": {},
   "outputs": [
    {
     "name": "stdout",
     "output_type": "stream",
     "text": [
      "Train on 15000 samples, validate on 10000 samples\n",
      "Epoch 1/20\n",
      "15000/15000 [==============================] - 2s 109us/sample - loss: 0.5119 - acc: 0.7878 - val_loss: 0.3847 - val_acc: 0.8641\n",
      "Epoch 2/20\n",
      "15000/15000 [==============================] - 1s 82us/sample - loss: 0.2975 - acc: 0.9053 - val_loss: 0.3081 - val_acc: 0.8809\n",
      "Epoch 3/20\n",
      "15000/15000 [==============================] - 1s 91us/sample - loss: 0.2195 - acc: 0.9259 - val_loss: 0.2760 - val_acc: 0.8926\n",
      "Epoch 4/20\n",
      "15000/15000 [==============================] - 1s 90us/sample - loss: 0.1743 - acc: 0.9421 - val_loss: 0.2756 - val_acc: 0.8904\n",
      "Epoch 5/20\n",
      "15000/15000 [==============================] - 1s 89us/sample - loss: 0.1387 - acc: 0.9569 - val_loss: 0.3303 - val_acc: 0.8740\n",
      "Epoch 6/20\n",
      "15000/15000 [==============================] - 1s 91us/sample - loss: 0.1165 - acc: 0.9643 - val_loss: 0.2946 - val_acc: 0.8863\n",
      "Epoch 7/20\n",
      "15000/15000 [==============================] - 1s 91us/sample - loss: 0.0964 - acc: 0.9708 - val_loss: 0.3149 - val_acc: 0.8829\n",
      "Epoch 8/20\n",
      "15000/15000 [==============================] - 1s 91us/sample - loss: 0.0768 - acc: 0.9797 - val_loss: 0.3307 - val_acc: 0.8809\n",
      "Epoch 9/20\n",
      "15000/15000 [==============================] - 1s 89us/sample - loss: 0.0620 - acc: 0.9851 - val_loss: 0.3664 - val_acc: 0.8790\n",
      "Epoch 10/20\n",
      "15000/15000 [==============================] - 1s 90us/sample - loss: 0.0505 - acc: 0.9875 - val_loss: 0.3793 - val_acc: 0.8781\n",
      "Epoch 11/20\n",
      "15000/15000 [==============================] - 1s 91us/sample - loss: 0.0397 - acc: 0.9899 - val_loss: 0.4304 - val_acc: 0.8674\n",
      "Epoch 12/20\n",
      "15000/15000 [==============================] - 1s 92us/sample - loss: 0.0294 - acc: 0.9945 - val_loss: 0.4362 - val_acc: 0.8747\n",
      "Epoch 13/20\n",
      "15000/15000 [==============================] - 1s 91us/sample - loss: 0.0257 - acc: 0.9950 - val_loss: 0.4677 - val_acc: 0.8741\n",
      "Epoch 14/20\n",
      "15000/15000 [==============================] - 1s 90us/sample - loss: 0.0170 - acc: 0.9977 - val_loss: 0.4991 - val_acc: 0.8726\n",
      "Epoch 15/20\n",
      "15000/15000 [==============================] - 1s 91us/sample - loss: 0.0168 - acc: 0.9977 - val_loss: 0.5313 - val_acc: 0.8708\n",
      "Epoch 16/20\n",
      "15000/15000 [==============================] - 1s 91us/sample - loss: 0.0088 - acc: 0.9995 - val_loss: 0.5683 - val_acc: 0.8667\n",
      "Epoch 17/20\n",
      "15000/15000 [==============================] - 1s 92us/sample - loss: 0.0080 - acc: 0.9993 - val_loss: 0.5975 - val_acc: 0.8687\n",
      "Epoch 18/20\n",
      "15000/15000 [==============================] - 1s 92us/sample - loss: 0.0058 - acc: 0.9997 - val_loss: 0.6355 - val_acc: 0.8679\n",
      "Epoch 19/20\n",
      "15000/15000 [==============================] - 1s 93us/sample - loss: 0.0059 - acc: 0.9992 - val_loss: 0.6787 - val_acc: 0.8672\n",
      "Epoch 20/20\n",
      "15000/15000 [==============================] - 1s 92us/sample - loss: 0.0022 - acc: 1.0000 - val_loss: 0.7004 - val_acc: 0.8657\n"
     ]
    }
   ],
   "source": [
    "# train model\n",
    "history = model.fit(partial_x_train, partial_y_train, epochs = 20, \n",
    "                    batch_size = 512, validation_data = (x_val, y_val))"
   ]
  },
  {
   "cell_type": "code",
   "execution_count": 13,
   "metadata": {},
   "outputs": [],
   "source": [
    "# extract logs of loss and accuracy\n",
    "history_dict = history.history\n",
    "loss_values = history_dict['loss']\n",
    "val_loss_values = history_dict['val_loss']\n",
    "acc = history_dict['acc']\n",
    "val_acc = history_dict['val_acc']\n",
    "epochs = range(1,len(loss_values)+1)"
   ]
  },
  {
   "cell_type": "code",
   "execution_count": 14,
   "metadata": {},
   "outputs": [
    {
     "data": {
      "image/png": "[encoded data removed]",
      "text/plain": [
       "<Figure size 432x288 with 1 Axes>"
      ]
     },
     "metadata": {
      "needs_background": "light"
     },
     "output_type": "display_data"
    }
   ],
   "source": [
    "# plot loss for training and validation set\n",
    "plt.clf()\n",
    "plt.plot(epochs, loss_values, 'bo', label='Training loss')\n",
    "plt.plot(epochs, val_loss_values, 'b', label='Validation loss')\n",
    "plt.title('Training and Validation Loss')\n",
    "plt.xlabel('Epochs')\n",
    "plt.ylabel('Loss')\n",
    "plt.legend()\n",
    "plt.show()"
   ]
  },
  {
   "cell_type": "code",
   "execution_count": 15,
   "metadata": {},
   "outputs": [
    {
     "data": {
      "image/png": "[encoded data removed]",
      "text/plain": [
       "<Figure size 432x288 with 1 Axes>"
      ]
     },
     "metadata": {
      "needs_background": "light"
     },
     "output_type": "display_data"
    }
   ],
   "source": [
    "# plot accuracy for training and validation set\n",
    "plt.clf()\n",
    "plt.plot(epochs, acc, 'bo', label='Training accuracy')\n",
    "plt.plot(epochs, val_acc, 'b', label='Validation accuracy')\n",
    "plt.title('Training and Validation Accuracy')\n",
    "plt.xlabel('Epochs')\n",
    "plt.ylabel('Accuracy')\n",
    "plt.legend()\n",
    "plt.show()"
   ]
  },
  {
   "cell_type": "code",
   "execution_count": 16,
   "metadata": {},
   "outputs": [
    {
     "name": "stdout",
     "output_type": "stream",
     "text": [
      "25000/25000 [==============================] - 1s 57us/sample - loss: 0.7602 - acc: 0.8535\n",
      "test loss = 0.7601951476812363, test accuracy = 0.85352\n"
     ]
    }
   ],
   "source": [
    "# evaluate model on test set\n",
    "results = model.evaluate(x_test, y_test)\n",
    "print('test loss = ' + str(results[0]) + ', test accuracy = ' + str(results[1]))"
   ]
  },
  {
   "cell_type": "markdown",
   "metadata": {},
   "source": [
    "## Improvement\n",
    "We now attempt to improve the test accuracy by choosing the words with which to represent the reviews in a different manner.  The approach thus far has kept the 10000 most frequently occurring words.  Some of these would be common words like \"the\", \"of\", \"to\", \"and\", etc.  It is reasonable to think that these words will not help separate the two classes of positive and negative reviews. Moreover, it is reasonable to think that there are classes of words associated with negative and positive reviews that should be included.\n",
    "\n",
    "The conditional histograms (conditioned on positive or negative review) of word occurance frequencies are computed.  Then a score (between -1 and +1) is computed such that words that occur mainly in negative reviews get a score close to -1 and those in mostly positive reviews get a score close to +1.  Words that occur with equal frequencies get a score close to 0."
   ]
  },
  {
   "cell_type": "code",
   "execution_count": 17,
   "metadata": {},
   "outputs": [],
   "source": [
    "# reload data with no limits on words\n",
    "(train_data, train_labels), (test_data, test_labels) = imdb.load_data()\n",
    "max_index_train = max([max(s) for s in train_data])\n",
    "max_index_test = max([max(s) for s in test_data])\n",
    "max_index = max([max_index_train, max_index_test])"
   ]
  },
  {
   "cell_type": "code",
   "execution_count": 18,
   "metadata": {},
   "outputs": [],
   "source": [
    "# create a histogram of frequency counts of each word conditioned on negative or positive review\n",
    "flatlist0 = list(itertools.chain.from_iterable(train_data[train_labels == 0]))  # concatinate negative reviews\n",
    "flatlist1 = list(itertools.chain.from_iterable(train_data[train_labels == 1]))  # concatinate positive reviews\n",
    "freq0 = np.bincount(flatlist0, minlength = max_index+1)  # count occurance of each word\n",
    "freq1 = np.bincount(flatlist1, minlength = max_index+1)\n",
    "# hack to avoid divide by 0\n",
    "both_zero = np.logical_and(freq0 == 0, freq1 == 0)\n",
    "freq0[both_zero] = 1\n",
    "freq1[both_zero] = 1\n",
    "score = (freq1 - freq0)/(freq1 + freq0)"
   ]
  },
  {
   "cell_type": "code",
   "execution_count": 19,
   "metadata": {},
   "outputs": [
    {
     "name": "stdout",
     "output_type": "stream",
     "text": [
      "NEGATIVE WORDS:\n",
      "mst3k, seagal, boll, unwatchable, stinker, uwe, dreck, yawn, beowulf, gamera, thunderbirds, ajay, wayans, scarecrows, semblance, tashan, dahmer, slater, hobgoblins, kareena, awfulness, steaming, grendel, kornbluth, segal, sarne, deathstalker, btk, welch, tremors\n",
      "POSITIVE WORDS:\n",
      "felix, paulie, edie, gundam, polanski, din, antwone, vance, fido, sox, chavez, kolchak, gunga, alvin, excellently, mathieu, yokai, hayworth, gypo, tony's, deanna, laputa, haines, chamberlain, iturbi, adele, kells, sammo, flavia, gackt\n",
      "NEUTRAL WORDS:\n",
      "?, the, and, a, of, to, is, br, in, it, i, this, that, was, as, for, with, movie, but, film, on, not, you, are, his, have, he, be, one, all\n"
     ]
    }
   ],
   "source": [
    "# create sets of negative, positive and neutral words\n",
    "SIGNIFICANCE_THRESHOLD = 3\n",
    "negative_words, = np.where(np.logical_and(score < -0.9, freq0 + freq1 > SIGNIFICANCE_THRESHOLD))\n",
    "positive_words, = np.where(np.logical_and(score > 0.9, freq0 + freq1 > SIGNIFICANCE_THRESHOLD))\n",
    "neutral_words, = np.where(np.logical_and(np.abs(score) < 0.25, freq0 + freq1 > SIGNIFICANCE_THRESHOLD))\n",
    "assert(negative_words.shape[0]+positive_words.shape[0] <= NUM_WORDS)\n",
    "print('NEGATIVE WORDS:')\n",
    "print(', '.join([reverse_word_index.get(i-3,'?') for i in negative_words[:30]]))\n",
    "print('POSITIVE WORDS:')\n",
    "print(', '.join([reverse_word_index.get(i-3,'?') for i in positive_words[:30]]))\n",
    "print('NEUTRAL WORDS:')\n",
    "print(', '.join([reverse_word_index.get(i-3,'?') for i in neutral_words[:30]]))"
   ]
  },
  {
   "cell_type": "code",
   "execution_count": 20,
   "metadata": {},
   "outputs": [
    {
     "name": "stdout",
     "output_type": "stream",
     "text": [
      "INCLUDED WORDS:\n",
      "no, bad, great, life, plot, best, love, why, thing, nothing, world, young, both, series, always, least, family, script, guy, anything, minutes, performance, 2, worst, fun, each, looks, different, money, reason\n"
     ]
    }
   ],
   "source": [
    "# create list of 10000 included words to embed reviews\n",
    "important_words = np.union1d(negative_words,positive_words)\n",
    "remaining_words = np.setdiff1d(np.array(range(4,max_index+1)),np.union1d(important_words,neutral_words))\n",
    "included_words = np.union1d(important_words,remaining_words[:NUM_WORDS-important_words.shape[0]])\n",
    "included_words.sort()\n",
    "print('INCLUDED WORDS:')\n",
    "print(', '.join([reverse_word_index.get(i-3,'?') for i in included_words[:30]]))"
   ]
  },
  {
   "cell_type": "code",
   "execution_count": 21,
   "metadata": {},
   "outputs": [],
   "source": [
    "# create encoding using included words\n",
    "included_words_map = np.zeros((max_index+2,), dtype='int64')\n",
    "included_words_map[included_words] = np.array(list(range(included_words.shape[0])))+1  # zero reserved for unincluded word\n",
    "\n",
    "# binary encoding of reviews - 1 if word is present\n",
    "def vectorize_sequences3( sequences, dimension = NUM_WORDS ):\n",
    "    results = np.zeros((len(sequences), dimension+1))\n",
    "    for i, sequence in enumerate(sequences):\n",
    "        idx = included_words_map[sequence]\n",
    "        results[i,idx] = 1\n",
    "    results = results[:,1:]  # remove unincluded word \n",
    "    return results# train model\n",
    "\n",
    "x_train = vectorize_sequences3(train_data)\n",
    "x_test = vectorize_sequences3(test_data)"
   ]
  },
  {
   "cell_type": "code",
   "execution_count": 22,
   "metadata": {},
   "outputs": [],
   "source": [
    "# vectorize labels -- don't know why this is necessary (int64-->float32?)\n",
    "y_train = np.asarray(train_labels).astype('float32')\n",
    "y_test = np.asarray(test_labels).astype('float32')"
   ]
  },
  {
   "cell_type": "code",
   "execution_count": 23,
   "metadata": {},
   "outputs": [],
   "source": [
    "model = build_model1()\n",
    "model.compile(optimizer = 'rmsprop', loss = 'binary_crossentropy', metrics = ['accuracy'])"
   ]
  },
  {
   "cell_type": "code",
   "execution_count": 24,
   "metadata": {},
   "outputs": [],
   "source": [
    "# set aside a validation set\n",
    "VALIDATION_SIZE = 10000\n",
    "from random import shuffle\n",
    "index = list(range(x_train.shape[0]))\n",
    "#shuffle(index)  # comment this out if non-random split is desired\n",
    "x_val = x_train[index[:VALIDATION_SIZE]]\n",
    "partial_x_train = x_train[index[VALIDATION_SIZE:]]\n",
    "y_val = y_train[index[:VALIDATION_SIZE]]\n",
    "partial_y_train = y_train[index[VALIDATION_SIZE:]]"
   ]
  },
  {
   "cell_type": "code",
   "execution_count": 25,
   "metadata": {},
   "outputs": [
    {
     "name": "stdout",
     "output_type": "stream",
     "text": [
      "Train on 15000 samples, validate on 10000 samples\n",
      "Epoch 1/20\n",
      "15000/15000 [==============================] - 2s 116us/sample - loss: 0.5933 - acc: 0.8143 - val_loss: 0.4927 - val_acc: 0.8774\n",
      "Epoch 2/20\n",
      "15000/15000 [==============================] - 2s 104us/sample - loss: 0.4271 - acc: 0.9021 - val_loss: 0.3901 - val_acc: 0.8888\n",
      "Epoch 3/20\n",
      "15000/15000 [==============================] - 2s 102us/sample - loss: 0.3331 - acc: 0.9159 - val_loss: 0.3288 - val_acc: 0.8948\n",
      "Epoch 4/20\n",
      "15000/15000 [==============================] - 1s 98us/sample - loss: 0.2710 - acc: 0.9256 - val_loss: 0.2917 - val_acc: 0.8990\n",
      "Epoch 5/20\n",
      "15000/15000 [==============================] - 1s 99us/sample - loss: 0.2280 - acc: 0.9333 - val_loss: 0.2699 - val_acc: 0.9005\n",
      "Epoch 6/20\n",
      "15000/15000 [==============================] - 1s 98us/sample - loss: 0.1966 - acc: 0.9390 - val_loss: 0.2577 - val_acc: 0.9026\n",
      "Epoch 7/20\n",
      "15000/15000 [==============================] - 2s 102us/sample - loss: 0.1730 - acc: 0.9447 - val_loss: 0.2529 - val_acc: 0.9009\n",
      "Epoch 8/20\n",
      "15000/15000 [==============================] - 2s 101us/sample - loss: 0.1539 - acc: 0.9511 - val_loss: 0.2525 - val_acc: 0.9005\n",
      "Epoch 9/20\n",
      "15000/15000 [==============================] - 1s 98us/sample - loss: 0.1380 - acc: 0.9551 - val_loss: 0.2550 - val_acc: 0.8991\n",
      "Epoch 10/20\n",
      "15000/15000 [==============================] - 1s 97us/sample - loss: 0.1246 - acc: 0.9587 - val_loss: 0.2603 - val_acc: 0.8991\n",
      "Epoch 11/20\n",
      "15000/15000 [==============================] - 1s 97us/sample - loss: 0.1127 - acc: 0.9633 - val_loss: 0.2681 - val_acc: 0.8966\n",
      "Epoch 12/20\n",
      "15000/15000 [==============================] - 1s 97us/sample - loss: 0.1021 - acc: 0.9674 - val_loss: 0.2772 - val_acc: 0.8963\n",
      "Epoch 13/20\n",
      "15000/15000 [==============================] - 1s 98us/sample - loss: 0.0926 - acc: 0.9711 - val_loss: 0.2890 - val_acc: 0.8942\n",
      "Epoch 14/20\n",
      "15000/15000 [==============================] - 1s 98us/sample - loss: 0.0842 - acc: 0.9743 - val_loss: 0.2997 - val_acc: 0.8930\n",
      "Epoch 15/20\n",
      "15000/15000 [==============================] - 1s 98us/sample - loss: 0.0764 - acc: 0.9773 - val_loss: 0.3125 - val_acc: 0.8917\n",
      "Epoch 16/20\n",
      "15000/15000 [==============================] - 1s 98us/sample - loss: 0.0694 - acc: 0.9795 - val_loss: 0.3272 - val_acc: 0.8904\n",
      "Epoch 17/20\n",
      "15000/15000 [==============================] - 1s 100us/sample - loss: 0.0628 - acc: 0.9817 - val_loss: 0.3437 - val_acc: 0.8884\n",
      "Epoch 18/20\n",
      "15000/15000 [==============================] - 1s 98us/sample - loss: 0.0569 - acc: 0.9838 - val_loss: 0.3601 - val_acc: 0.8870\n",
      "Epoch 19/20\n",
      "15000/15000 [==============================] - 2s 101us/sample - loss: 0.0513 - acc: 0.9858 - val_loss: 0.3819 - val_acc: 0.8874\n",
      "Epoch 20/20\n",
      "15000/15000 [==============================] - 1s 97us/sample - loss: 0.0460 - acc: 0.9872 - val_loss: 0.4002 - val_acc: 0.8848\n"
     ]
    }
   ],
   "source": [
    "# train model\n",
    "history = model.fit(partial_x_train, partial_y_train, epochs = 20, \n",
    "                    batch_size = 1024, validation_data = (x_val, y_val))"
   ]
  },
  {
   "cell_type": "code",
   "execution_count": 26,
   "metadata": {},
   "outputs": [
    {
     "name": "stdout",
     "output_type": "stream",
     "text": [
      "25000/25000 [==============================] - 2s 61us/sample - loss: 0.6019 - acc: 0.8368\n",
      "test loss = 0.6019146831464768, test accuracy = 0.83684\n"
     ]
    }
   ],
   "source": [
    "# evaluate model on test set\n",
    "results = model.evaluate(x_test, y_test)\n",
    "print('test loss = ' + str(results[0]) + ', test accuracy = ' + str(results[1]))"
   ]
  },
  {
   "cell_type": "markdown",
   "metadata": {},
   "source": [
    "## Conclusion\n",
    "Inspite of carefully picking the list of 10000 words to represent our reviews, we only achieve a 2% improvement on the validation set and in fact lose accuracy on our test set by 2%.  It's possible we need to look at higher order word sequences (e.g. bigrams) to gain meaningful improvements.  Or this type of problem is best approached using RNNs."
   ]
  }
 ],
 "metadata": {
  "kernelspec": {
   "display_name": "Python 3",
   "language": "python",
   "name": "python3"
  },
  "language_info": {
   "codemirror_mode": {
    "name": "ipython",
    "version": 3
   },
   "file_extension": ".py",
   "mimetype": "text/x-python",
   "name": "python",
   "nbconvert_exporter": "python",
   "pygments_lexer": "ipython3",
   "version": "3.7.3"
  }
 },
 "nbformat": 4,
 "nbformat_minor": 2
}
