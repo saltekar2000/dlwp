{
 "cells": [
  {
   "cell_type": "code",
   "execution_count": 1,
   "metadata": {},
   "outputs": [],
   "source": [
    "import numpy as np\n",
    "import matplotlib.pyplot as plt\n",
    "import tensorflow as tf\n",
    "\n",
    "boston_housing = tf.keras.datasets.boston_housing\n",
    "models = tf.keras.models\n",
    "layers = tf.keras.layers"
   ]
  },
  {
   "cell_type": "code",
   "execution_count": 14,
   "metadata": {},
   "outputs": [
    {
     "name": "stdout",
     "output_type": "stream",
     "text": [
      "train_data.shape = (404, 13)\n",
      "test_data.shape = (102, 13)\n",
      "train_targets = [15.2, 42.3, 50.0, ..., 19.4, 19.4, 29.1]\n"
     ]
    }
   ],
   "source": [
    "# load data\n",
    "(train_data, train_targets), (test_data, test_targets) = boston_housing.load_data()\n",
    "print('train_data.shape = ' + str(train_data.shape))\n",
    "print('test_data.shape = ' + str(test_data.shape))\n",
    "print('train_targets = ['  + ', '.join([str(t) for t in train_targets[:3]]) + ', ..., ' \n",
    "      + ', '.join([str(t) for t in train_targets[-3:]]) + ']')"
   ]
  },
  {
   "cell_type": "code",
   "execution_count": 16,
   "metadata": {},
   "outputs": [
    {
     "name": "stdout",
     "output_type": "stream",
     "text": [
      "mean.shape = (13,)\n",
      "std.shape = (13,)\n"
     ]
    }
   ],
   "source": [
    "# normalize the features (subtract mean and divide by standard deviation)\n",
    "mean = train_data.mean(axis=0)\n",
    "std = train_data.std(axis=0)\n",
    "print('mean.shape = ' + str(mean.shape))\n",
    "print('std.shape = ' + str(std.shape))\n",
    "\n",
    "train_data -= mean\n",
    "train_data /= std\n",
    "test_data -= mean\n",
    "test_data /= std"
   ]
  },
  {
   "cell_type": "code",
   "execution_count": null,
   "metadata": {},
   "outputs": [],
   "source": [
    "# model definition\n",
    "def build_model():\n",
    "    model = models.Sequential()\n",
    "    model.add(layers.Dense(64, activation='relu', input_shape = (train_data.shape[1],)))\n",
    "    model.add(layers.Dense(64, activation='relu'))\n",
    "    model.add(layers.Dense(1))\n",
    "    model.compile(optimizer='rmsprop', loss='mse', metrics=['mae'])\n",
    "    return model\n",
    "    \n",
    "model = build_model()"
   ]
  }
 ],
 "metadata": {
  "kernelspec": {
   "display_name": "Python 3",
   "language": "python",
   "name": "python3"
  },
  "language_info": {
   "codemirror_mode": {
    "name": "ipython",
    "version": 3
   },
   "file_extension": ".py",
   "mimetype": "text/x-python",
   "name": "python",
   "nbconvert_exporter": "python",
   "pygments_lexer": "ipython3",
   "version": "3.7.3"
  }
 },
 "nbformat": 4,
 "nbformat_minor": 2
}
